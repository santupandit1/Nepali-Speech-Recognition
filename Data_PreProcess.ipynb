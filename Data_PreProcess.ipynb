{
  "cells": [
    {
      "cell_type": "markdown",
      "metadata": {
        "id": "SBTULOtfTjAi"
      },
      "source": [
        "**DATA CLEANING / NORMALIZATIO :\n",
        "1) Noise Reduction **"
      ]
    },
    {
      "cell_type": "code",
      "execution_count": null,
      "metadata": {
        "id": "_rKtZnBLUIwA"
      },
      "outputs": [],
      "source": [
        "import os"
      ]
    },
    {
      "cell_type": "code",
      "execution_count": null,
      "metadata": {
        "colab": {
          "base_uri": "https://localhost:8080/"
        },
        "id": "mC8SVpWoCFpS",
        "outputId": "4b3635f8-481f-4de6-f575-190470d82c92"
      },
      "outputs": [
        {
          "output_type": "stream",
          "name": "stdout",
          "text": [
            "Mounted at /content/drive\n"
          ]
        }
      ],
      "source": [
        "from google.colab import drive\n",
        "drive.mount('/content/drive')"
      ]
    },
    {
      "cell_type": "code",
      "execution_count": null,
      "metadata": {
        "id": "-H3DUjc9JIoJ"
      },
      "outputs": [],
      "source": [
        "!pip install librosa noisereduce\n",
        "!pip install pydub"
      ]
    },
    {
      "cell_type": "code",
      "execution_count": null,
      "metadata": {
        "id": "ar3aJATvFRUH"
      },
      "outputs": [],
      "source": [
        "import librosa\n",
        "import librosa.display\n",
        "import matplotlib.pyplot as plt\n",
        "import noisereduce\n",
        "from google.colab import files\n",
        "import io\n",
        "import soundfile as sf\n",
        "import numpy as np\n",
        "import shutil"
      ]
    },
    {
      "cell_type": "code",
      "source": [
        "path_s = '/content/drive/MyDrive/RAW_DATA'\n",
        "file_s = os.listdir(path_s)"
      ],
      "metadata": {
        "id": "2uQL-SnkjmKT"
      },
      "execution_count": null,
      "outputs": []
    },
    {
      "cell_type": "code",
      "execution_count": null,
      "metadata": {
        "id": "fuD4H0owjtVv"
      },
      "outputs": [],
      "source": [
        "for j in file_s:\n",
        "  # path=os.path.join(path_s,j)\n",
        "  # files=os.listdir(path)\n",
        "  # for i in files:\n",
        "    os.makedirs('/content/uploaded_audio')\n",
        "    os.makedirs('/content/normalized_audio')\n",
        "    os.makedirs('/content/denoised_audio')\n",
        "    os.makedirs('/content/resampled_audio')\n",
        "    os.makedirs('/content/clipped_audio')\n",
        "\n",
        "    up_audio_path= os.path.join(path_s,j)\n",
        "    up_audio_files = os.listdir(up_audio_path)\n",
        "\n",
        "  # NOISE REDUCTION\n",
        "    nor_audio_path = up_audio_path\n",
        "    nor_audio_files = up_audio_files\n",
        "\n",
        "    for nor_audio_file in nor_audio_files:\n",
        "      if('.flac' in nor_audio_file):\n",
        "        nor_audio_filepath = os.path.join(nor_audio_path, nor_audio_file)\n",
        "        nor_audio_data, sr = librosa.load(nor_audio_filepath, sr=None)\n",
        "        reduced_noise = noisereduce.reduce_noise(y=nor_audio_data, sr=sr)\n",
        "        den_filename = f'{nor_audio_file}'\n",
        "        den_filepath = os.path.join('/content/denoised_audio', den_filename)\n",
        "        sf.write(den_filepath, reduced_noise, sr)\n",
        "\n",
        "  #SAMPLE RATE ADJUSTMENT\n",
        "    d_audio_path = '/content/denoised_audio'\n",
        "    d_audio_files = os.listdir(d_audio_path)\n",
        "\n",
        "    for d_audio_file in d_audio_files:\n",
        "      if('.flac' in d_audio_file):\n",
        "        d_audio_filepath = os.path.join(d_audio_path, d_audio_file)\n",
        "        denoised_audio, den_sr = librosa.load(d_audio_filepath)\n",
        "        target_sampling_rate = 16000\n",
        "        resampled_audio = librosa.resample(denoised_audio, orig_sr=den_sr, target_sr=target_sampling_rate)\n",
        "        resampled_filename = f'{d_audio_file}'\n",
        "        resampled_filepath = os.path.join('/content/resampled_audio', resampled_filename)\n",
        "        sf.write(resampled_filepath, resampled_audio, target_sampling_rate)\n",
        "\n",
        "  # INTENSITY LEVEL FILTERING\n",
        "    i_audio_path = '/content/resampled_audio'\n",
        "    i_audio_files = os.listdir(i_audio_path)\n",
        "\n",
        "    for i_audio_file in i_audio_files:\n",
        "      if('.flac' in i_audio_file):\n",
        "        i_audio_filepath = os.path.join(i_audio_path, i_audio_file)\n",
        "        in_audio, sr = librosa.load(i_audio_filepath)\n",
        "        y_trimmed, index = librosa.effects.trim(in_audio, top_db=20)\n",
        "        clipped_dir = '/content/clipped_audio'\n",
        "        os.makedirs(clipped_dir, exist_ok=True)\n",
        "        clipped_filename = f'{i_audio_file}'\n",
        "        clipped_filepath = os.path.join(clipped_dir, clipped_filename)\n",
        "        sf.write(clipped_filepath, y_trimmed, sr)\n",
        "        shutil.copy(clipped_filepath,\"/content/drive/MyDrive/PROCESSED/CLEAN_DATA\")\n",
        "\n",
        "    %rm -rf clipped_audio\n",
        "    %rm -rf uploaded_audio\n",
        "    %rm -rf normalized_audio\n",
        "    %rm -rf denoised_audio\n",
        "    %rm -rf resampled_audio"
      ]
    },
    {
      "cell_type": "code",
      "source": [
        "# print(\"DURATION\",max(dur),\"-\",min(dur))\n",
        "# print(\"AMP MAX\",max(ampa),\"-\",min(ampa))\n",
        "# print(\"AMP MIN\",max(amp_na),\"-\",min(amp_na))\n"
      ],
      "metadata": {
        "colab": {
          "base_uri": "https://localhost:8080/"
        },
        "id": "jEcQQJGuN_cr",
        "outputId": "75fa4b49-e8b7-4fbd-a7dc-9d48c790a41b"
      },
      "execution_count": null,
      "outputs": [
        {
          "output_type": "stream",
          "name": "stdout",
          "text": [
            "DURATION 8.103764172335602 - 0.09287981859410431\n",
            "AMP MAX 1.0 - 0.3218994\n",
            "AMP MIN 3.0517578e-05 - 0.0\n"
          ]
        }
      ]
    }
  ],
  "metadata": {
    "colab": {
      "provenance": []
    },
    "kernelspec": {
      "display_name": "Python 3",
      "name": "python3"
    },
    "language_info": {
      "name": "python"
    }
  },
  "nbformat": 4,
  "nbformat_minor": 0
}